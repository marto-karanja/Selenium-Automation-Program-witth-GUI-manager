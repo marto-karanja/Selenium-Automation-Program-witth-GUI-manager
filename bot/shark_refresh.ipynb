{
 "cells": [
  {
   "cell_type": "code",
   "execution_count": 1,
   "metadata": {},
   "outputs": [],
   "source": [
    "# fetch chrome driver and settings\n",
    "import json\n",
    "import os\n",
    "import sys\n",
    "import logging\n",
    "import logging.config\n",
    "import json\n",
    "import time\n",
    "import imaplib\n",
    "import email\n",
    "from configparser import ConfigParser\n",
    "from imapclient import IMAPClient\n",
    "from datetime import date, datetime, timedelta\n",
    "\n",
    "\n",
    "\n",
    "\n",
    "def setup_logger():\n",
    "    \"\"\"function to set up logger\"\"\"\n",
    "    # configure logging\n",
    "    d = date.today()\n",
    "\n",
    "    log_file = d.isoformat()\n",
    "    ## check if file exists    \n",
    "    log_path = check_log_folder('logs')\n",
    "    logging.basicConfig(\n",
    "    format=\"%(asctime)s [%(threadName)-12.12s] [%(levelname)-5.5s]  %(message)s\",\n",
    "    datefmt=\"'%m/%d/%Y %I:%M:%S %p\",\n",
    "    handlers=[\n",
    "        logging.FileHandler(\"{0}/{1}.log\".format(log_path, log_file)),\n",
    "        logging.StreamHandler()\n",
    "    ],\n",
    "    level = logging.INFO)\n",
    "\n",
    "    logger = logging.getLogger(__name__)\n",
    "    return logger\n",
    "    \n",
    "\n",
    "def check_log_folder(dir_name):\n",
    "    \"\"\"Function to ensure log directory exists\"\"\"\n",
    "    if not os.path.exists(dir_name):\n",
    "        try:\n",
    "            os.mkdir(dir_name)\n",
    "        except OSError:\n",
    "            print (\"[INFO] Creation of the directory {} failed\".format(os.path.abspath(dir_name)))\n",
    "    else:\n",
    "        print (\"[INFO] Successfully created the directory {} \".format(os.path.abspath(dir_name)))\n",
    "    return format(os.path.abspath(dir_name))\n",
    "\n",
    "def resource_path():\n",
    "    CHROME_DRIVER = os.path.join(os.path.join(os.getcwd(), 'C:\\\\Users\\\\Admin\\\\Documents\\\\projects\\\\bots\\\\shark\\\\bot\\\\driver'), 'chromedriver.exe')\n",
    "    return CHROME_DRIVER\n",
    "\n",
    "def fetch_settings(logger):\n",
    "    \"\"\"Fetch to fetch configuration settings from setup.ini\"\"\"\n",
    "    \"\"\"Fetch Path to Chrome driver from config file\"\"\"\n",
    "    config = ConfigParser()\n",
    "    settings = {}\n",
    "    config.read(\"setup.ini\")\n",
    "    CHROME_DRIVER_PATH = config.get(\"chromedriver\", \"path\")\n",
    "    bid_status = config.get(\"bid_status\",\"bid\")\n",
    "    # Fetch delay\n",
    "    settings['delay']= config.getint(\"delay\", \"seconds\")\n",
    "    chrome_driver = resource_path()\n",
    "    logger.debug(\"Successfully fetched chrome driver path\")\n",
    "    # fetch client messages\n",
    "    messages = json.loads(config.get(\"client_message\",\"messages\"))\n",
    "    settings['messages'] = messages\n",
    "    logger.info(\"Successfully fetched client messages\")\n",
    "    settings['chromedriver'] = chrome_driver\n",
    "    settings['bid_status'] = bid_status\n",
    "    return settings\n",
    "    \n",
    "def fetch_user_details(logger):\n",
    "    \"\"\"Function to fetch user details from config.json\"\"\"\n",
    "    with open('config.json', 'r') as f:\n",
    "        config = json.load(f)\n",
    "    \n",
    "    user_details= {}\n",
    "    user_details['email'] = config['user_details']['email']\n",
    "    user_details['password'] = config['user_details']['password']\n",
    "    logger.debug(\"User details fetched successfully\")\n",
    "    return user_details\n",
    "\n",
    "\n",
    "\n"
   ]
  },
  {
   "cell_type": "code",
   "execution_count": 2,
   "metadata": {},
   "outputs": [],
   "source": [
    "\n",
    "from sharkbot.tempBot import SharkBotTemp\n",
    "\n"
   ]
  },
  {
   "cell_type": "code",
   "execution_count": 3,
   "metadata": {
    "tags": []
   },
   "outputs": [
    {
     "name": "stderr",
     "output_type": "stream",
     "text": [
      "'07/24/2021 02:41:36 PM [MainThread  ] [INFO ]  Successfully fetched client messages\n",
      "'07/24/2021 02:41:36 PM [MainThread  ] [INFO ]  Initializing browser instance\n"
     ]
    },
    {
     "name": "stdout",
     "output_type": "stream",
     "text": [
      "[INFO] Successfully created the directory c:\\Users\\Admin\\Documents\\projects\\bots\\shark\\bot\\logs \n"
     ]
    },
    {
     "ename": "WebDriverException",
     "evalue": "Message: 'chromedriver.exe' executable needs to be in PATH. Please see https://sites.google.com/a/chromium.org/chromedriver/home\n",
     "output_type": "error",
     "traceback": [
      "\u001b[1;31m---------------------------------------------------------------------------\u001b[0m",
      "\u001b[1;31mFileNotFoundError\u001b[0m                         Traceback (most recent call last)",
      "\u001b[1;32m~\\.conda\\envs\\bot\\lib\\site-packages\\selenium\\webdriver\\common\\service.py\u001b[0m in \u001b[0;36mstart\u001b[1;34m(self)\u001b[0m\n\u001b[0;32m     71\u001b[0m             \u001b[0mcmd\u001b[0m\u001b[1;33m.\u001b[0m\u001b[0mextend\u001b[0m\u001b[1;33m(\u001b[0m\u001b[0mself\u001b[0m\u001b[1;33m.\u001b[0m\u001b[0mcommand_line_args\u001b[0m\u001b[1;33m(\u001b[0m\u001b[1;33m)\u001b[0m\u001b[1;33m)\u001b[0m\u001b[1;33m\u001b[0m\u001b[1;33m\u001b[0m\u001b[0m\n\u001b[1;32m---> 72\u001b[1;33m             self.process = subprocess.Popen(cmd, env=self.env,\n\u001b[0m\u001b[0;32m     73\u001b[0m                                             \u001b[0mclose_fds\u001b[0m\u001b[1;33m=\u001b[0m\u001b[0mplatform\u001b[0m\u001b[1;33m.\u001b[0m\u001b[0msystem\u001b[0m\u001b[1;33m(\u001b[0m\u001b[1;33m)\u001b[0m \u001b[1;33m!=\u001b[0m \u001b[1;34m'Windows'\u001b[0m\u001b[1;33m,\u001b[0m\u001b[1;33m\u001b[0m\u001b[1;33m\u001b[0m\u001b[0m\n",
      "\u001b[1;32m~\\.conda\\envs\\bot\\lib\\subprocess.py\u001b[0m in \u001b[0;36m__init__\u001b[1;34m(self, args, bufsize, executable, stdin, stdout, stderr, preexec_fn, close_fds, shell, cwd, env, universal_newlines, startupinfo, creationflags, restore_signals, start_new_session, pass_fds, encoding, errors, text)\u001b[0m\n\u001b[0;32m    853\u001b[0m \u001b[1;33m\u001b[0m\u001b[0m\n\u001b[1;32m--> 854\u001b[1;33m             self._execute_child(args, executable, preexec_fn, close_fds,\n\u001b[0m\u001b[0;32m    855\u001b[0m                                 \u001b[0mpass_fds\u001b[0m\u001b[1;33m,\u001b[0m \u001b[0mcwd\u001b[0m\u001b[1;33m,\u001b[0m \u001b[0menv\u001b[0m\u001b[1;33m,\u001b[0m\u001b[1;33m\u001b[0m\u001b[1;33m\u001b[0m\u001b[0m\n",
      "\u001b[1;32m~\\.conda\\envs\\bot\\lib\\subprocess.py\u001b[0m in \u001b[0;36m_execute_child\u001b[1;34m(self, args, executable, preexec_fn, close_fds, pass_fds, cwd, env, startupinfo, creationflags, shell, p2cread, p2cwrite, c2pread, c2pwrite, errread, errwrite, unused_restore_signals, unused_start_new_session)\u001b[0m\n\u001b[0;32m   1306\u001b[0m             \u001b[1;32mtry\u001b[0m\u001b[1;33m:\u001b[0m\u001b[1;33m\u001b[0m\u001b[1;33m\u001b[0m\u001b[0m\n\u001b[1;32m-> 1307\u001b[1;33m                 hp, ht, pid, tid = _winapi.CreateProcess(executable, args,\n\u001b[0m\u001b[0;32m   1308\u001b[0m                                          \u001b[1;31m# no special security\u001b[0m\u001b[1;33m\u001b[0m\u001b[1;33m\u001b[0m\u001b[1;33m\u001b[0m\u001b[0m\n",
      "\u001b[1;31mFileNotFoundError\u001b[0m: [WinError 2] The system cannot find the file specified",
      "\nDuring handling of the above exception, another exception occurred:\n",
      "\u001b[1;31mWebDriverException\u001b[0m                        Traceback (most recent call last)",
      "\u001b[1;32m<ipython-input-3-b6865b049934>\u001b[0m in \u001b[0;36m<module>\u001b[1;34m\u001b[0m\n\u001b[0;32m      3\u001b[0m \u001b[0muser_details\u001b[0m \u001b[1;33m=\u001b[0m \u001b[0mfetch_user_details\u001b[0m\u001b[1;33m(\u001b[0m\u001b[0mlogger\u001b[0m\u001b[1;33m)\u001b[0m\u001b[1;33m\u001b[0m\u001b[1;33m\u001b[0m\u001b[0m\n\u001b[0;32m      4\u001b[0m \u001b[0msettings\u001b[0m \u001b[1;33m=\u001b[0m \u001b[0mfetch_settings\u001b[0m\u001b[1;33m(\u001b[0m\u001b[0mlogger\u001b[0m\u001b[1;33m)\u001b[0m\u001b[1;33m\u001b[0m\u001b[1;33m\u001b[0m\u001b[0m\n\u001b[1;32m----> 5\u001b[1;33m \u001b[0mbot\u001b[0m \u001b[1;33m=\u001b[0m \u001b[0mSharkBotTemp\u001b[0m\u001b[1;33m(\u001b[0m\u001b[0muser_details\u001b[0m\u001b[1;33m,\u001b[0m\u001b[0msettings\u001b[0m\u001b[1;33m,\u001b[0m \u001b[0mlogger\u001b[0m\u001b[1;33m)\u001b[0m\u001b[1;33m\u001b[0m\u001b[1;33m\u001b[0m\u001b[0m\n\u001b[0m\u001b[0;32m      6\u001b[0m \u001b[1;33m\u001b[0m\u001b[0m\n\u001b[0;32m      7\u001b[0m \u001b[0mbot\u001b[0m\u001b[1;33m.\u001b[0m\u001b[0mstart_bot\u001b[0m\u001b[1;33m(\u001b[0m\u001b[1;33m)\u001b[0m\u001b[1;33m\u001b[0m\u001b[1;33m\u001b[0m\u001b[0m\n",
      "\u001b[1;32mc:\\Users\\Admin\\Documents\\projects\\bots\\shark\\bot\\sharkbot\\tempBot.py\u001b[0m in \u001b[0;36m__init__\u001b[1;34m(self, user_details, settings, logger)\u001b[0m\n\u001b[0;32m     42\u001b[0m         \u001b[1;31m#chrome_options.add_argument(\"--disable-gpu\")\u001b[0m\u001b[1;33m\u001b[0m\u001b[1;33m\u001b[0m\u001b[1;33m\u001b[0m\u001b[0m\n\u001b[0;32m     43\u001b[0m         \u001b[0mchrome_options\u001b[0m\u001b[1;33m.\u001b[0m\u001b[0madd_argument\u001b[0m\u001b[1;33m(\u001b[0m\u001b[1;34m'log-level=1'\u001b[0m\u001b[1;33m)\u001b[0m\u001b[1;33m\u001b[0m\u001b[1;33m\u001b[0m\u001b[0m\n\u001b[1;32m---> 44\u001b[1;33m         \u001b[0mself\u001b[0m\u001b[1;33m.\u001b[0m\u001b[0mdriver\u001b[0m \u001b[1;33m=\u001b[0m \u001b[0mwebdriver\u001b[0m\u001b[1;33m.\u001b[0m\u001b[0mChrome\u001b[0m\u001b[1;33m(\u001b[0m\u001b[0moptions\u001b[0m\u001b[1;33m=\u001b[0m\u001b[0mchrome_options\u001b[0m\u001b[1;33m,\u001b[0m \u001b[0mexecutable_path\u001b[0m\u001b[1;33m=\u001b[0m\u001b[0mCHROME_DRIVER\u001b[0m\u001b[1;33m)\u001b[0m\u001b[1;33m\u001b[0m\u001b[1;33m\u001b[0m\u001b[0m\n\u001b[0m\u001b[0;32m     45\u001b[0m \u001b[1;33m\u001b[0m\u001b[0m\n\u001b[0;32m     46\u001b[0m     \u001b[1;32mdef\u001b[0m \u001b[0mrandomize_delay\u001b[0m\u001b[1;33m(\u001b[0m\u001b[0mself\u001b[0m\u001b[1;33m)\u001b[0m\u001b[1;33m:\u001b[0m\u001b[1;33m\u001b[0m\u001b[1;33m\u001b[0m\u001b[0m\n",
      "\u001b[1;32m~\\.conda\\envs\\bot\\lib\\site-packages\\selenium\\webdriver\\chrome\\webdriver.py\u001b[0m in \u001b[0;36m__init__\u001b[1;34m(self, executable_path, port, options, service_args, desired_capabilities, service_log_path, chrome_options, keep_alive)\u001b[0m\n\u001b[0;32m     71\u001b[0m             \u001b[0mservice_args\u001b[0m\u001b[1;33m=\u001b[0m\u001b[0mservice_args\u001b[0m\u001b[1;33m,\u001b[0m\u001b[1;33m\u001b[0m\u001b[1;33m\u001b[0m\u001b[0m\n\u001b[0;32m     72\u001b[0m             log_path=service_log_path)\n\u001b[1;32m---> 73\u001b[1;33m         \u001b[0mself\u001b[0m\u001b[1;33m.\u001b[0m\u001b[0mservice\u001b[0m\u001b[1;33m.\u001b[0m\u001b[0mstart\u001b[0m\u001b[1;33m(\u001b[0m\u001b[1;33m)\u001b[0m\u001b[1;33m\u001b[0m\u001b[1;33m\u001b[0m\u001b[0m\n\u001b[0m\u001b[0;32m     74\u001b[0m \u001b[1;33m\u001b[0m\u001b[0m\n\u001b[0;32m     75\u001b[0m         \u001b[1;32mtry\u001b[0m\u001b[1;33m:\u001b[0m\u001b[1;33m\u001b[0m\u001b[1;33m\u001b[0m\u001b[0m\n",
      "\u001b[1;32m~\\.conda\\envs\\bot\\lib\\site-packages\\selenium\\webdriver\\common\\service.py\u001b[0m in \u001b[0;36mstart\u001b[1;34m(self)\u001b[0m\n\u001b[0;32m     79\u001b[0m         \u001b[1;32mexcept\u001b[0m \u001b[0mOSError\u001b[0m \u001b[1;32mas\u001b[0m \u001b[0merr\u001b[0m\u001b[1;33m:\u001b[0m\u001b[1;33m\u001b[0m\u001b[1;33m\u001b[0m\u001b[0m\n\u001b[0;32m     80\u001b[0m             \u001b[1;32mif\u001b[0m \u001b[0merr\u001b[0m\u001b[1;33m.\u001b[0m\u001b[0merrno\u001b[0m \u001b[1;33m==\u001b[0m \u001b[0merrno\u001b[0m\u001b[1;33m.\u001b[0m\u001b[0mENOENT\u001b[0m\u001b[1;33m:\u001b[0m\u001b[1;33m\u001b[0m\u001b[1;33m\u001b[0m\u001b[0m\n\u001b[1;32m---> 81\u001b[1;33m                 raise WebDriverException(\n\u001b[0m\u001b[0;32m     82\u001b[0m                     \"'%s' executable needs to be in PATH. %s\" % (\n\u001b[0;32m     83\u001b[0m                         os.path.basename(self.path), self.start_error_message)\n",
      "\u001b[1;31mWebDriverException\u001b[0m: Message: 'chromedriver.exe' executable needs to be in PATH. Please see https://sites.google.com/a/chromium.org/chromedriver/home\n"
     ]
    }
   ],
   "source": [
    "\n",
    "logger = setup_logger()\n",
    "\n",
    "user_details = fetch_user_details(logger)\n",
    "settings = fetch_settings(logger)\n",
    "bot = SharkBotTemp(user_details,settings, logger)\n",
    "\n",
    "bot.start_bot()"
   ]
  },
  {
   "cell_type": "code",
   "execution_count": null,
   "metadata": {},
   "outputs": [
    {
     "name": "stdout",
     "output_type": "stream",
     "text": [
      "{3, 5}\n"
     ]
    }
   ],
   "source": [
    "l = {3,5,8}\n",
    "y ={8}\n",
    "difference = l.difference(y)\n",
    "print (difference)"
   ]
  },
  {
   "cell_type": "code",
   "execution_count": null,
   "metadata": {},
   "outputs": [],
   "source": [
    "bot.driver.get(\"https://essayshark.com/writer/orders/195174315.html\")"
   ]
  },
  {
   "cell_type": "code",
   "execution_count": null,
   "metadata": {},
   "outputs": [
    {
     "name": "stderr",
     "output_type": "stream",
     "text": [
      "'04/09/2021 01:05:46 PM [MainThread  ] [INFO ]  Successfully fetched client messages\n",
      "0: Hi client, having read the assignment's requirements, I can guarantee to deliver to beyond expectations. Thank you in advance.\n",
      "1: Dear client, I am confident that I can exceed your expectations. As a writer, I have worked on numerous projects in the past. Sincere regards, writer.\n",
      "2: Dear customer, you may proceed to assign this order to me. I guarantee quality work completed within the provided deadline. Best regards.\n",
      "3: Hello, I guarantee quality work on this order. Kindly assign and I will kick off ASAP. Thank you.\n",
      "4: Dear Client, I have handled similar tasks throughout my writing career. It would be my pleasure to assist in your task. Thank you in advance.\n"
     ]
    }
   ],
   "source": [
    "def fetch_settings(logger):\n",
    "    \"\"\"Fetch to fetch configuration settings from setup.ini\"\"\"\n",
    "    \"\"\"Fetch Path to Chrome driver from config file\"\"\"\n",
    "    config = ConfigParser()\n",
    "    settings = {}\n",
    "    config.read(\"setup.ini\")\n",
    "    CHROME_DRIVER_PATH = config.get(\"chromedriver\", \"path\")\n",
    "    bid_status = config.get(\"bid_status\",\"bid\")\n",
    "    # Fetch delay\n",
    "    settings['delay']= config.getint(\"delay\", \"seconds\")\n",
    "    chrome_driver = resource_path()\n",
    "    logger.debug(\"Successfully fetched chrome driver path\")\n",
    "    # fetch client messages\n",
    "    messages = json.loads(config.get(\"client_message\",\"messages\"))\n",
    "    settings['messages'] = messages\n",
    "    logger.info(\"Successfully fetched client messages\")\n",
    "    settings['chromedriver'] = chrome_driver\n",
    "    settings['bid_status'] = bid_status\n",
    "    return settings\n",
    "\n",
    "settings =  fetch_settings(logger)\n",
    "for no, message in enumerate(settings['messages']):\n",
    "    print (\"{}: {}\".format(no,message))"
   ]
  },
  {
   "cell_type": "code",
   "execution_count": null,
   "metadata": {},
   "outputs": [
    {
     "name": "stdout",
     "output_type": "stream",
     "text": [
      "['', 'https://essayshark.com/writer/get_additional_material.html?order=195193071&h=f47d43410ad12b3302ccf371ebec6c67']\n"
     ]
    }
   ],
   "source": [
    "file_urls = []\n",
    "file_block = bot.driver.find_elements_by_css_selector('.paper_instructions_view>a')\n",
    "for url in file_block:\n",
    "    file_urls.append(url.get_attribute(\"href\"))\n",
    "print(file_urls)"
   ]
  },
  {
   "cell_type": "code",
   "execution_count": null,
   "metadata": {},
   "outputs": [],
   "source": [
    "for url in file_urls:\n",
    "    if 'https://essayshark.com/writer/get_additional_material.html?' in url:\n",
    "        bot.driver.get(url)"
   ]
  },
  {
   "cell_type": "markdown",
   "metadata": {},
   "source": [
    "# New shark theme login code"
   ]
  },
  {
   "cell_type": "code",
   "execution_count": 5,
   "metadata": {},
   "outputs": [],
   "source": [
    "import os\n",
    "import time\n",
    "import json\n",
    "# import webdriver \n",
    "from selenium.webdriver.chrome.options import Options \n",
    "from selenium import webdriver  \n",
    "from selenium.webdriver.common.by import By \n",
    "from selenium.webdriver.support.ui import WebDriverWait \n",
    "from selenium.webdriver.support import expected_conditions as EC\n",
    "from selenium.common.exceptions import NoSuchElementException\n",
    "from selenium.common.exceptions import ElementNotVisibleException \n",
    "\n",
    "\n",
    "with open('config.json', 'r') as f:\n",
    "    config = json.load(f)\n",
    "    \n",
    "    \n",
    "user_details= {}\n",
    "user_details['email'] = config['user_details']['email']\n",
    "user_details['password'] = config['user_details']['password']\n",
    "user_details\n",
    "\n",
    "CHROME_DRIVER = r'C:\\Users\\Admin\\Documents\\projects\\bots\\shark\\bot\\driver/chromedriver.exe'\n",
    "\n",
    "\n",
    "\n",
    "# create webdriver object  \n",
    "chrome_options = Options()\n",
    "chrome_options.add_argument(\"--incognito\")\n",
    "chrome_options.add_argument(\"--start-maximized\")\n",
    "driver = webdriver.Chrome(options=chrome_options, executable_path=CHROME_DRIVER)\n",
    "\n",
    "url = \"https://essayshark.com/\"  \n",
    "driver.get(url)"
   ]
  },
  {
   "cell_type": "markdown",
   "metadata": {},
   "source": [
    "\"header__button--account-desktop button--ghost button--ghost-blue js--account\"\n",
    "\"//button[contains(text(),'My account')]\"\n",
    "driver.findElementsByXPath(\"//button[contains(text(),'Text in your webpage')]\");"
   ]
  },
  {
   "cell_type": "code",
   "execution_count": 7,
   "metadata": {},
   "outputs": [],
   "source": [
    "account_button = driver.find_element_by_xpath(\"//button[contains(text(),' My account ')]\")\n",
    "account_button.click()"
   ]
  },
  {
   "cell_type": "code",
   "execution_count": 2,
   "metadata": {},
   "outputs": [],
   "source": [
    "account_button = driver.find_element_by_class_name(\"auth__block\")\n",
    "account_button.click()"
   ]
  }
 ],
 "metadata": {
  "interpreter": {
   "hash": "5baf651f56d62098a8fbc4975699af6a0b34427acd5faac938ec4d49a2e2b92d"
  },
  "kernelspec": {
   "display_name": "Python 3.8.5 64-bit ('bot': conda)",
   "name": "python3"
  },
  "language_info": {
   "codemirror_mode": {
    "name": "ipython",
    "version": 3
   },
   "file_extension": ".py",
   "mimetype": "text/x-python",
   "name": "python",
   "nbconvert_exporter": "python",
   "pygments_lexer": "ipython3",
   "version": "3.8.5"
  },
  "orig_nbformat": 2
 },
 "nbformat": 4,
 "nbformat_minor": 2
}
