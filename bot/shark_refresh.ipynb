{
 "metadata": {
  "language_info": {
   "codemirror_mode": {
    "name": "ipython",
    "version": 3
   },
   "file_extension": ".py",
   "mimetype": "text/x-python",
   "name": "python",
   "nbconvert_exporter": "python",
   "pygments_lexer": "ipython3",
   "version": "3.8.5"
  },
  "orig_nbformat": 2,
  "kernelspec": {
   "name": "python385jvsc74a57bd05baf651f56d62098a8fbc4975699af6a0b34427acd5faac938ec4d49a2e2b92d",
   "display_name": "Python 3.8.5 64-bit ('bot': conda)"
  }
 },
 "nbformat": 4,
 "nbformat_minor": 2,
 "cells": [
  {
   "cell_type": "code",
   "execution_count": 21,
   "metadata": {},
   "outputs": [],
   "source": [
    "# fetch chrome driver and settings\n",
    "import json\n",
    "import os\n",
    "import sys\n",
    "import logging\n",
    "import logging.config\n",
    "import json\n",
    "import time\n",
    "import imaplib\n",
    "import email\n",
    "from configparser import ConfigParser\n",
    "from imapclient import IMAPClient\n",
    "from datetime import date, datetime, timedelta\n",
    "\n",
    "\n",
    "\n",
    "\n",
    "def setup_logger():\n",
    "    \"\"\"function to set up logger\"\"\"\n",
    "    # configure logging\n",
    "    d = date.today()\n",
    "\n",
    "    log_file = d.isoformat()\n",
    "    ## check if file exists    \n",
    "    log_path = check_log_folder('logs')\n",
    "    logging.basicConfig(\n",
    "    format=\"%(asctime)s [%(threadName)-12.12s] [%(levelname)-5.5s]  %(message)s\",\n",
    "    datefmt=\"'%m/%d/%Y %I:%M:%S %p\",\n",
    "    handlers=[\n",
    "        logging.FileHandler(\"{0}/{1}.log\".format(log_path, log_file)),\n",
    "        logging.StreamHandler()\n",
    "    ],\n",
    "    level = logging.INFO)\n",
    "\n",
    "    logger = logging.getLogger(__name__)\n",
    "    return logger\n",
    "    \n",
    "\n",
    "def check_log_folder(dir_name):\n",
    "    \"\"\"Function to ensure log directory exists\"\"\"\n",
    "    if not os.path.exists(dir_name):\n",
    "        try:\n",
    "            os.mkdir(dir_name)\n",
    "        except OSError:\n",
    "            print (\"[INFO] Creation of the directory {} failed\".format(os.path.abspath(dir_name)))\n",
    "    else:\n",
    "        print (\"[INFO] Successfully created the directory {} \".format(os.path.abspath(dir_name)))\n",
    "    return format(os.path.abspath(dir_name))\n",
    "\n",
    "def resource_path():\n",
    "    CHROME_DRIVER = os.path.join(os.path.join(os.getcwd(), 'C:\\\\Users\\\\Admin\\\\Documents\\\\projects\\\\bots\\\\myessaywriter\\\\bot\\\\driver'), 'chromedriver.exe')\n",
    "    return CHROME_DRIVER\n",
    "\n",
    "def fetch_settings(logger):\n",
    "    \"\"\"Fetch to fetch configuration settings from setup.ini\"\"\"\n",
    "    \"\"\"Fetch Path to Chrome driver from config file\"\"\"\n",
    "    config = ConfigParser()\n",
    "    settings = {}\n",
    "    config.read(\"setup.ini\")\n",
    "    CHROME_DRIVER_PATH = config.get(\"chromedriver\", \"path\")\n",
    "    bid_status = config.get(\"bid_status\",\"bid\")\n",
    "    # Fetch delay\n",
    "    settings['delay']= config.getint(\"delay\", \"seconds\")\n",
    "    chrome_driver = resource_path()\n",
    "    logger.debug(\"Successfully fetched chrome driver path\")\n",
    "    # fetch client messages\n",
    "    messages = json.loads(config.get(\"client_message\",\"messages\"))\n",
    "    settings['messages'] = messages\n",
    "    logger.info(\"Successfully fetched client messages\")\n",
    "    settings['chromedriver'] = chrome_driver\n",
    "    settings['bid_status'] = bid_status\n",
    "    return settings\n",
    "    \n",
    "def fetch_user_details(logger):\n",
    "    \"\"\"Function to fetch user details from config.json\"\"\"\n",
    "    with open('config.json', 'r') as f:\n",
    "        config = json.load(f)\n",
    "    \n",
    "    user_details= {}\n",
    "    user_details['email'] = config['user_details']['email']\n",
    "    user_details['password'] = config['user_details']['password']\n",
    "    logger.debug(\"User details fetched successfully\")\n",
    "    return user_details\n",
    "\n",
    "\n",
    "\n"
   ]
  },
  {
   "cell_type": "code",
   "execution_count": 22,
   "metadata": {},
   "outputs": [
    {
     "output_type": "stream",
     "name": "stdout",
     "text": [
      "The autoreload extension is already loaded. To reload it, use:\n  %reload_ext autoreload\n"
     ]
    }
   ],
   "source": [
    "%load_ext autoreload\n",
    "%autoreload 2\n",
    "from bot.tempBot import SharkBot\n",
    "\n"
   ]
  },
  {
   "cell_type": "code",
   "execution_count": 23,
   "metadata": {
    "tags": []
   },
   "outputs": [
    {
     "output_type": "stream",
     "name": "stdout",
     "text": [
      "[INFO] Successfully created the directory c:\\Users\\Admin\\Documents\\projects\\bots\\shark\\bot\\logs \n",
      "'04/09/2021 09:09:56 PM [MainThread  ] [INFO ]  Successfully fetched client messages\n",
      "'04/09/2021 09:09:59 PM [MainThread  ] [INFO ]  Navigating to home page\n",
      "'04/09/2021 09:10:32 PM [MainThread  ] [INFO ]  Form button ready to click\n",
      "'04/09/2021 09:10:32 PM [MainThread  ] [INFO ]  Log in form loaded\n",
      "'04/09/2021 09:10:32 PM [MainThread  ] [INFO ]  Logging into Shark...\n",
      "'04/09/2021 09:10:33 PM [MainThread  ] [INFO ]  Completed log in process\n",
      "'04/09/2021 09:10:41 PM [MainThread  ] [INFO ]  Fetched 51 orders\n",
      "'04/09/2021 09:10:41 PM [MainThread  ] [INFO ]  51 orders initially fetched\n",
      "'04/09/2021 09:10:42 PM [MainThread  ] [INFO ]  Fetched 51 orders\n",
      "'04/09/2021 09:10:42 PM [MainThread  ] [INFO ]  0 new orders found\n",
      "'04/09/2021 09:10:45 PM [MainThread  ] [INFO ]  Fetched 51 orders\n",
      "'04/09/2021 09:10:45 PM [MainThread  ] [INFO ]  0 new orders found\n",
      "'04/09/2021 09:10:47 PM [MainThread  ] [INFO ]  Fetched 51 orders\n",
      "'04/09/2021 09:10:47 PM [MainThread  ] [INFO ]  0 new orders found\n",
      "'04/09/2021 09:10:49 PM [MainThread  ] [INFO ]  Fetched 51 orders\n",
      "'04/09/2021 09:10:49 PM [MainThread  ] [INFO ]  0 new orders found\n",
      "'04/09/2021 09:10:52 PM [MainThread  ] [INFO ]  Fetched 51 orders\n",
      "'04/09/2021 09:10:52 PM [MainThread  ] [INFO ]  0 new orders found\n",
      "'04/09/2021 09:10:54 PM [MainThread  ] [INFO ]  Fetched 51 orders\n",
      "'04/09/2021 09:10:54 PM [MainThread  ] [INFO ]  0 new orders found\n",
      "'04/09/2021 09:10:56 PM [MainThread  ] [INFO ]  Fetched 51 orders\n",
      "'04/09/2021 09:10:56 PM [MainThread  ] [INFO ]  0 new orders found\n",
      "'04/09/2021 09:10:58 PM [MainThread  ] [INFO ]  Fetched 51 orders\n",
      "'04/09/2021 09:10:58 PM [MainThread  ] [INFO ]  0 new orders found\n",
      "'04/09/2021 09:11:00 PM [MainThread  ] [INFO ]  Fetched 51 orders\n",
      "'04/09/2021 09:11:00 PM [MainThread  ] [INFO ]  0 new orders found\n",
      "'04/09/2021 09:11:03 PM [MainThread  ] [INFO ]  Fetched 51 orders\n",
      "'04/09/2021 09:11:03 PM [MainThread  ] [INFO ]  0 new orders found\n",
      "'04/09/2021 09:11:05 PM [MainThread  ] [INFO ]  Fetched 51 orders\n",
      "'04/09/2021 09:11:05 PM [MainThread  ] [INFO ]  0 new orders found\n",
      "'04/09/2021 09:11:07 PM [MainThread  ] [INFO ]  Fetched 51 orders\n",
      "'04/09/2021 09:11:07 PM [MainThread  ] [INFO ]  0 new orders found\n",
      "'04/09/2021 09:11:09 PM [MainThread  ] [INFO ]  Fetched 51 orders\n",
      "'04/09/2021 09:11:09 PM [MainThread  ] [INFO ]  0 new orders found\n",
      "'04/09/2021 09:11:11 PM [MainThread  ] [INFO ]  Fetched 51 orders\n",
      "'04/09/2021 09:11:11 PM [MainThread  ] [INFO ]  0 new orders found\n",
      "'04/09/2021 09:11:13 PM [MainThread  ] [INFO ]  Fetched 51 orders\n",
      "'04/09/2021 09:11:13 PM [MainThread  ] [INFO ]  0 new orders found\n",
      "'04/09/2021 09:11:15 PM [MainThread  ] [INFO ]  Fetched 51 orders\n",
      "'04/09/2021 09:11:15 PM [MainThread  ] [INFO ]  0 new orders found\n",
      "'04/09/2021 09:11:17 PM [MainThread  ] [INFO ]  Fetched 51 orders\n",
      "'04/09/2021 09:11:17 PM [MainThread  ] [INFO ]  0 new orders found\n",
      "'04/09/2021 09:11:19 PM [MainThread  ] [INFO ]  Fetched 51 orders\n",
      "'04/09/2021 09:11:19 PM [MainThread  ] [INFO ]  0 new orders found\n",
      "'04/09/2021 09:11:21 PM [MainThread  ] [INFO ]  Fetched 51 orders\n",
      "'04/09/2021 09:11:21 PM [MainThread  ] [INFO ]  0 new orders found\n",
      "'04/09/2021 09:11:23 PM [MainThread  ] [INFO ]  Fetched 51 orders\n",
      "'04/09/2021 09:11:23 PM [MainThread  ] [INFO ]  0 new orders found\n",
      "'04/09/2021 09:11:25 PM [MainThread  ] [INFO ]  Fetched 51 orders\n",
      "'04/09/2021 09:11:25 PM [MainThread  ] [INFO ]  0 new orders found\n",
      "'04/09/2021 09:11:27 PM [MainThread  ] [INFO ]  Fetched 51 orders\n",
      "'04/09/2021 09:11:27 PM [MainThread  ] [INFO ]  0 new orders found\n",
      "'04/09/2021 09:11:29 PM [MainThread  ] [INFO ]  Fetched 50 orders\n",
      "'04/09/2021 09:11:29 PM [MainThread  ] [INFO ]  0 new orders found\n",
      "'04/09/2021 09:11:32 PM [MainThread  ] [INFO ]  Fetched 51 orders\n",
      "'04/09/2021 09:11:32 PM [MainThread  ] [INFO ]  1 new orders found\n",
      "'04/09/2021 09:11:32 PM [MainThread  ] [INFO ]  [Order https://essayshark.com/writer/orders/195153029.html] Fetched\n",
      "'04/09/2021 09:11:35 PM [MainThread  ] [INFO ]  Sleeping for 30 secs\n",
      "'04/09/2021 09:12:17 PM [MainThread  ] [INFO ]  Applied for Order [https://essayshark.com/writer/orders/195153029.html]\n",
      "'04/09/2021 09:12:17 PM [MainThread  ] [INFO ]  1 orders have been processed\n",
      "'04/09/2021 09:12:22 PM [MainThread  ] [INFO ]  Pausing execution for a few seconds...\n",
      "'04/09/2021 09:12:23 PM [MainThread  ] [INFO ]  URL processed\n",
      "'04/09/2021 09:12:23 PM [MainThread  ] [INFO ]  2 orders processed\n",
      "'04/09/2021 09:12:28 PM [MainThread  ] [INFO ]  Fetched 51 orders\n",
      "'04/09/2021 09:12:28 PM [MainThread  ] [INFO ]  1 new orders found\n",
      "'04/09/2021 09:12:28 PM [MainThread  ] [INFO ]  [Order https://essayshark.com/writer/orders/195192893.html] Fetched\n",
      "'04/09/2021 09:12:33 PM [MainThread  ] [INFO ]  Sleeping for 30 secs\n"
     ]
    },
    {
     "output_type": "error",
     "ename": "StaleElementReferenceException",
     "evalue": "Message: stale element reference: element is not attached to the page document\n  (Session info: chrome=89.0.4389.114)\n",
     "traceback": [
      "\u001b[1;31m---------------------------------------------------------------------------\u001b[0m",
      "\u001b[1;31mStaleElementReferenceException\u001b[0m            Traceback (most recent call last)",
      "\u001b[1;32m<ipython-input-23-490030e21909>\u001b[0m in \u001b[0;36m<module>\u001b[1;34m\u001b[0m\n\u001b[0;32m      5\u001b[0m \u001b[0mbot\u001b[0m \u001b[1;33m=\u001b[0m \u001b[0mSharkBot\u001b[0m\u001b[1;33m(\u001b[0m\u001b[0muser_details\u001b[0m\u001b[1;33m,\u001b[0m\u001b[0msettings\u001b[0m\u001b[1;33m,\u001b[0m \u001b[0mlogger\u001b[0m\u001b[1;33m)\u001b[0m\u001b[1;33m\u001b[0m\u001b[1;33m\u001b[0m\u001b[0m\n\u001b[0;32m      6\u001b[0m \u001b[1;33m\u001b[0m\u001b[0m\n\u001b[1;32m----> 7\u001b[1;33m \u001b[0mbot\u001b[0m\u001b[1;33m.\u001b[0m\u001b[0mstart_bot\u001b[0m\u001b[1;33m(\u001b[0m\u001b[1;33m)\u001b[0m\u001b[1;33m\u001b[0m\u001b[1;33m\u001b[0m\u001b[0m\n\u001b[0m",
      "\u001b[1;32mc:\\Users\\Admin\\Documents\\projects\\bots\\shark\\bot\\bot\\tempBot.py\u001b[0m in \u001b[0;36mstart_bot\u001b[1;34m(self)\u001b[0m\n\u001b[0;32m    207\u001b[0m         \u001b[0mself\u001b[0m\u001b[1;33m.\u001b[0m\u001b[0morder_list\u001b[0m\u001b[1;33m.\u001b[0m\u001b[0mupdate\u001b[0m\u001b[1;33m(\u001b[0m\u001b[0mfetched_orders\u001b[0m\u001b[1;33m)\u001b[0m\u001b[1;33m\u001b[0m\u001b[1;33m\u001b[0m\u001b[0m\n\u001b[0;32m    208\u001b[0m         \u001b[1;31m# wait for new orders\u001b[0m\u001b[1;33m\u001b[0m\u001b[1;33m\u001b[0m\u001b[1;33m\u001b[0m\u001b[0m\n\u001b[1;32m--> 209\u001b[1;33m         \u001b[0mself\u001b[0m\u001b[1;33m.\u001b[0m\u001b[0mwait_for_new_orders\u001b[0m\u001b[1;33m(\u001b[0m\u001b[1;33m)\u001b[0m\u001b[1;33m\u001b[0m\u001b[1;33m\u001b[0m\u001b[0m\n\u001b[0m\u001b[0;32m    210\u001b[0m \u001b[1;33m\u001b[0m\u001b[0m\n\u001b[0;32m    211\u001b[0m \u001b[1;33m\u001b[0m\u001b[0m\n",
      "\u001b[1;32mc:\\Users\\Admin\\Documents\\projects\\bots\\shark\\bot\\bot\\tempBot.py\u001b[0m in \u001b[0;36mwait_for_new_orders\u001b[1;34m(self)\u001b[0m\n\u001b[0;32m     91\u001b[0m                 \u001b[0mself\u001b[0m\u001b[1;33m.\u001b[0m\u001b[0mlogger\u001b[0m\u001b[1;33m.\u001b[0m\u001b[0minfo\u001b[0m\u001b[1;33m(\u001b[0m\u001b[1;34m\"%s new orders found\"\u001b[0m\u001b[1;33m,\u001b[0m \u001b[0mlen\u001b[0m\u001b[1;33m(\u001b[0m\u001b[0mqueued_orders\u001b[0m\u001b[1;33m)\u001b[0m\u001b[1;33m)\u001b[0m\u001b[1;33m\u001b[0m\u001b[1;33m\u001b[0m\u001b[0m\n\u001b[0;32m     92\u001b[0m                 \u001b[1;32mif\u001b[0m \u001b[0mlen\u001b[0m\u001b[1;33m(\u001b[0m\u001b[0mqueued_orders\u001b[0m\u001b[1;33m)\u001b[0m \u001b[1;33m>\u001b[0m \u001b[1;36m0\u001b[0m\u001b[1;33m:\u001b[0m\u001b[1;33m\u001b[0m\u001b[1;33m\u001b[0m\u001b[0m\n\u001b[1;32m---> 93\u001b[1;33m                     \u001b[0mself\u001b[0m\u001b[1;33m.\u001b[0m\u001b[0mprocess_orders\u001b[0m\u001b[1;33m(\u001b[0m\u001b[0mqueued_orders\u001b[0m\u001b[1;33m)\u001b[0m\u001b[1;33m\u001b[0m\u001b[1;33m\u001b[0m\u001b[0m\n\u001b[0m\u001b[0;32m     94\u001b[0m                     \u001b[0mself\u001b[0m\u001b[1;33m.\u001b[0m\u001b[0mdriver\u001b[0m\u001b[1;33m.\u001b[0m\u001b[0mget\u001b[0m\u001b[1;33m(\u001b[0m\u001b[1;34m\"https://essayshark.com/writer/orders/\"\u001b[0m\u001b[1;33m)\u001b[0m\u001b[1;33m\u001b[0m\u001b[1;33m\u001b[0m\u001b[0m\n\u001b[0;32m     95\u001b[0m                 \u001b[1;32melse\u001b[0m\u001b[1;33m:\u001b[0m\u001b[1;33m\u001b[0m\u001b[1;33m\u001b[0m\u001b[0m\n",
      "\u001b[1;32mc:\\Users\\Admin\\Documents\\projects\\bots\\shark\\bot\\bot\\tempBot.py\u001b[0m in \u001b[0;36mprocess_orders\u001b[1;34m(self, queued_orders)\u001b[0m\n\u001b[0;32m    150\u001b[0m                 \u001b[1;32mif\u001b[0m \u001b[1;33m(\u001b[0m\u001b[0mself\u001b[0m\u001b[1;33m.\u001b[0m\u001b[0mBID_STATUS\u001b[0m \u001b[1;33m==\u001b[0m \u001b[1;34m\"True\"\u001b[0m\u001b[1;33m)\u001b[0m\u001b[1;33m:\u001b[0m\u001b[1;33m\u001b[0m\u001b[1;33m\u001b[0m\u001b[0m\n\u001b[0;32m    151\u001b[0m                     \u001b[1;32mtry\u001b[0m\u001b[1;33m:\u001b[0m\u001b[1;33m\u001b[0m\u001b[1;33m\u001b[0m\u001b[0m\n\u001b[1;32m--> 152\u001b[1;33m                         \u001b[0mWebDriverWait\u001b[0m\u001b[1;33m(\u001b[0m\u001b[0mself\u001b[0m\u001b[1;33m.\u001b[0m\u001b[0mdriver\u001b[0m\u001b[1;33m,\u001b[0m \u001b[1;36m240\u001b[0m\u001b[1;33m)\u001b[0m\u001b[1;33m.\u001b[0m\u001b[0muntil\u001b[0m\u001b[1;33m(\u001b[0m \u001b[0mEC\u001b[0m\u001b[1;33m.\u001b[0m\u001b[0melement_to_be_clickable\u001b[0m\u001b[1;33m(\u001b[0m\u001b[1;33m(\u001b[0m\u001b[0mBy\u001b[0m\u001b[1;33m.\u001b[0m\u001b[0mID\u001b[0m\u001b[1;33m,\u001b[0m \u001b[1;34m\"apply_order\"\u001b[0m\u001b[1;33m)\u001b[0m\u001b[1;33m)\u001b[0m\u001b[1;33m)\u001b[0m\u001b[1;33m\u001b[0m\u001b[1;33m\u001b[0m\u001b[0m\n\u001b[0m\u001b[0;32m    153\u001b[0m                         \u001b[0mapply_button\u001b[0m \u001b[1;33m=\u001b[0m \u001b[0mself\u001b[0m\u001b[1;33m.\u001b[0m\u001b[0mdriver\u001b[0m\u001b[1;33m.\u001b[0m\u001b[0mfind_element_by_id\u001b[0m\u001b[1;33m(\u001b[0m\u001b[1;34m\"apply_order\"\u001b[0m\u001b[1;33m)\u001b[0m\u001b[1;33m\u001b[0m\u001b[1;33m\u001b[0m\u001b[0m\n\u001b[0;32m    154\u001b[0m                         \u001b[0mapply_button\u001b[0m\u001b[1;33m.\u001b[0m\u001b[0mclick\u001b[0m\u001b[1;33m(\u001b[0m\u001b[1;33m)\u001b[0m\u001b[1;33m\u001b[0m\u001b[1;33m\u001b[0m\u001b[0m\n",
      "\u001b[1;32m~\\.conda\\envs\\bot\\lib\\site-packages\\selenium\\webdriver\\support\\wait.py\u001b[0m in \u001b[0;36muntil\u001b[1;34m(self, method, message)\u001b[0m\n\u001b[0;32m     69\u001b[0m         \u001b[1;32mwhile\u001b[0m \u001b[1;32mTrue\u001b[0m\u001b[1;33m:\u001b[0m\u001b[1;33m\u001b[0m\u001b[1;33m\u001b[0m\u001b[0m\n\u001b[0;32m     70\u001b[0m             \u001b[1;32mtry\u001b[0m\u001b[1;33m:\u001b[0m\u001b[1;33m\u001b[0m\u001b[1;33m\u001b[0m\u001b[0m\n\u001b[1;32m---> 71\u001b[1;33m                 \u001b[0mvalue\u001b[0m \u001b[1;33m=\u001b[0m \u001b[0mmethod\u001b[0m\u001b[1;33m(\u001b[0m\u001b[0mself\u001b[0m\u001b[1;33m.\u001b[0m\u001b[0m_driver\u001b[0m\u001b[1;33m)\u001b[0m\u001b[1;33m\u001b[0m\u001b[1;33m\u001b[0m\u001b[0m\n\u001b[0m\u001b[0;32m     72\u001b[0m                 \u001b[1;32mif\u001b[0m \u001b[0mvalue\u001b[0m\u001b[1;33m:\u001b[0m\u001b[1;33m\u001b[0m\u001b[1;33m\u001b[0m\u001b[0m\n\u001b[0;32m     73\u001b[0m                     \u001b[1;32mreturn\u001b[0m \u001b[0mvalue\u001b[0m\u001b[1;33m\u001b[0m\u001b[1;33m\u001b[0m\u001b[0m\n",
      "\u001b[1;32m~\\.conda\\envs\\bot\\lib\\site-packages\\selenium\\webdriver\\support\\expected_conditions.py\u001b[0m in \u001b[0;36m__call__\u001b[1;34m(self, driver)\u001b[0m\n\u001b[0;32m    296\u001b[0m     \u001b[1;32mdef\u001b[0m \u001b[0m__call__\u001b[0m\u001b[1;33m(\u001b[0m\u001b[0mself\u001b[0m\u001b[1;33m,\u001b[0m \u001b[0mdriver\u001b[0m\u001b[1;33m)\u001b[0m\u001b[1;33m:\u001b[0m\u001b[1;33m\u001b[0m\u001b[1;33m\u001b[0m\u001b[0m\n\u001b[0;32m    297\u001b[0m         \u001b[0melement\u001b[0m \u001b[1;33m=\u001b[0m \u001b[0mvisibility_of_element_located\u001b[0m\u001b[1;33m(\u001b[0m\u001b[0mself\u001b[0m\u001b[1;33m.\u001b[0m\u001b[0mlocator\u001b[0m\u001b[1;33m)\u001b[0m\u001b[1;33m(\u001b[0m\u001b[0mdriver\u001b[0m\u001b[1;33m)\u001b[0m\u001b[1;33m\u001b[0m\u001b[1;33m\u001b[0m\u001b[0m\n\u001b[1;32m--> 298\u001b[1;33m         \u001b[1;32mif\u001b[0m \u001b[0melement\u001b[0m \u001b[1;32mand\u001b[0m \u001b[0melement\u001b[0m\u001b[1;33m.\u001b[0m\u001b[0mis_enabled\u001b[0m\u001b[1;33m(\u001b[0m\u001b[1;33m)\u001b[0m\u001b[1;33m:\u001b[0m\u001b[1;33m\u001b[0m\u001b[1;33m\u001b[0m\u001b[0m\n\u001b[0m\u001b[0;32m    299\u001b[0m             \u001b[1;32mreturn\u001b[0m \u001b[0melement\u001b[0m\u001b[1;33m\u001b[0m\u001b[1;33m\u001b[0m\u001b[0m\n\u001b[0;32m    300\u001b[0m         \u001b[1;32melse\u001b[0m\u001b[1;33m:\u001b[0m\u001b[1;33m\u001b[0m\u001b[1;33m\u001b[0m\u001b[0m\n",
      "\u001b[1;32m~\\.conda\\envs\\bot\\lib\\site-packages\\selenium\\webdriver\\remote\\webelement.py\u001b[0m in \u001b[0;36mis_enabled\u001b[1;34m(self)\u001b[0m\n\u001b[0;32m    157\u001b[0m     \u001b[1;32mdef\u001b[0m \u001b[0mis_enabled\u001b[0m\u001b[1;33m(\u001b[0m\u001b[0mself\u001b[0m\u001b[1;33m)\u001b[0m\u001b[1;33m:\u001b[0m\u001b[1;33m\u001b[0m\u001b[1;33m\u001b[0m\u001b[0m\n\u001b[0;32m    158\u001b[0m         \u001b[1;34m\"\"\"Returns whether the element is enabled.\"\"\"\u001b[0m\u001b[1;33m\u001b[0m\u001b[1;33m\u001b[0m\u001b[0m\n\u001b[1;32m--> 159\u001b[1;33m         \u001b[1;32mreturn\u001b[0m \u001b[0mself\u001b[0m\u001b[1;33m.\u001b[0m\u001b[0m_execute\u001b[0m\u001b[1;33m(\u001b[0m\u001b[0mCommand\u001b[0m\u001b[1;33m.\u001b[0m\u001b[0mIS_ELEMENT_ENABLED\u001b[0m\u001b[1;33m)\u001b[0m\u001b[1;33m[\u001b[0m\u001b[1;34m'value'\u001b[0m\u001b[1;33m]\u001b[0m\u001b[1;33m\u001b[0m\u001b[1;33m\u001b[0m\u001b[0m\n\u001b[0m\u001b[0;32m    160\u001b[0m \u001b[1;33m\u001b[0m\u001b[0m\n\u001b[0;32m    161\u001b[0m     \u001b[1;32mdef\u001b[0m \u001b[0mfind_element_by_id\u001b[0m\u001b[1;33m(\u001b[0m\u001b[0mself\u001b[0m\u001b[1;33m,\u001b[0m \u001b[0mid_\u001b[0m\u001b[1;33m)\u001b[0m\u001b[1;33m:\u001b[0m\u001b[1;33m\u001b[0m\u001b[1;33m\u001b[0m\u001b[0m\n",
      "\u001b[1;32m~\\.conda\\envs\\bot\\lib\\site-packages\\selenium\\webdriver\\remote\\webelement.py\u001b[0m in \u001b[0;36m_execute\u001b[1;34m(self, command, params)\u001b[0m\n\u001b[0;32m    631\u001b[0m             \u001b[0mparams\u001b[0m \u001b[1;33m=\u001b[0m \u001b[1;33m{\u001b[0m\u001b[1;33m}\u001b[0m\u001b[1;33m\u001b[0m\u001b[1;33m\u001b[0m\u001b[0m\n\u001b[0;32m    632\u001b[0m         \u001b[0mparams\u001b[0m\u001b[1;33m[\u001b[0m\u001b[1;34m'id'\u001b[0m\u001b[1;33m]\u001b[0m \u001b[1;33m=\u001b[0m \u001b[0mself\u001b[0m\u001b[1;33m.\u001b[0m\u001b[0m_id\u001b[0m\u001b[1;33m\u001b[0m\u001b[1;33m\u001b[0m\u001b[0m\n\u001b[1;32m--> 633\u001b[1;33m         \u001b[1;32mreturn\u001b[0m \u001b[0mself\u001b[0m\u001b[1;33m.\u001b[0m\u001b[0m_parent\u001b[0m\u001b[1;33m.\u001b[0m\u001b[0mexecute\u001b[0m\u001b[1;33m(\u001b[0m\u001b[0mcommand\u001b[0m\u001b[1;33m,\u001b[0m \u001b[0mparams\u001b[0m\u001b[1;33m)\u001b[0m\u001b[1;33m\u001b[0m\u001b[1;33m\u001b[0m\u001b[0m\n\u001b[0m\u001b[0;32m    634\u001b[0m \u001b[1;33m\u001b[0m\u001b[0m\n\u001b[0;32m    635\u001b[0m     \u001b[1;32mdef\u001b[0m \u001b[0mfind_element\u001b[0m\u001b[1;33m(\u001b[0m\u001b[0mself\u001b[0m\u001b[1;33m,\u001b[0m \u001b[0mby\u001b[0m\u001b[1;33m=\u001b[0m\u001b[0mBy\u001b[0m\u001b[1;33m.\u001b[0m\u001b[0mID\u001b[0m\u001b[1;33m,\u001b[0m \u001b[0mvalue\u001b[0m\u001b[1;33m=\u001b[0m\u001b[1;32mNone\u001b[0m\u001b[1;33m)\u001b[0m\u001b[1;33m:\u001b[0m\u001b[1;33m\u001b[0m\u001b[1;33m\u001b[0m\u001b[0m\n",
      "\u001b[1;32m~\\.conda\\envs\\bot\\lib\\site-packages\\selenium\\webdriver\\remote\\webdriver.py\u001b[0m in \u001b[0;36mexecute\u001b[1;34m(self, driver_command, params)\u001b[0m\n\u001b[0;32m    319\u001b[0m         \u001b[0mresponse\u001b[0m \u001b[1;33m=\u001b[0m \u001b[0mself\u001b[0m\u001b[1;33m.\u001b[0m\u001b[0mcommand_executor\u001b[0m\u001b[1;33m.\u001b[0m\u001b[0mexecute\u001b[0m\u001b[1;33m(\u001b[0m\u001b[0mdriver_command\u001b[0m\u001b[1;33m,\u001b[0m \u001b[0mparams\u001b[0m\u001b[1;33m)\u001b[0m\u001b[1;33m\u001b[0m\u001b[1;33m\u001b[0m\u001b[0m\n\u001b[0;32m    320\u001b[0m         \u001b[1;32mif\u001b[0m \u001b[0mresponse\u001b[0m\u001b[1;33m:\u001b[0m\u001b[1;33m\u001b[0m\u001b[1;33m\u001b[0m\u001b[0m\n\u001b[1;32m--> 321\u001b[1;33m             \u001b[0mself\u001b[0m\u001b[1;33m.\u001b[0m\u001b[0merror_handler\u001b[0m\u001b[1;33m.\u001b[0m\u001b[0mcheck_response\u001b[0m\u001b[1;33m(\u001b[0m\u001b[0mresponse\u001b[0m\u001b[1;33m)\u001b[0m\u001b[1;33m\u001b[0m\u001b[1;33m\u001b[0m\u001b[0m\n\u001b[0m\u001b[0;32m    322\u001b[0m             response['value'] = self._unwrap_value(\n\u001b[0;32m    323\u001b[0m                 response.get('value', None))\n",
      "\u001b[1;32m~\\.conda\\envs\\bot\\lib\\site-packages\\selenium\\webdriver\\remote\\errorhandler.py\u001b[0m in \u001b[0;36mcheck_response\u001b[1;34m(self, response)\u001b[0m\n\u001b[0;32m    240\u001b[0m                 \u001b[0malert_text\u001b[0m \u001b[1;33m=\u001b[0m \u001b[0mvalue\u001b[0m\u001b[1;33m[\u001b[0m\u001b[1;34m'alert'\u001b[0m\u001b[1;33m]\u001b[0m\u001b[1;33m.\u001b[0m\u001b[0mget\u001b[0m\u001b[1;33m(\u001b[0m\u001b[1;34m'text'\u001b[0m\u001b[1;33m)\u001b[0m\u001b[1;33m\u001b[0m\u001b[1;33m\u001b[0m\u001b[0m\n\u001b[0;32m    241\u001b[0m             \u001b[1;32mraise\u001b[0m \u001b[0mexception_class\u001b[0m\u001b[1;33m(\u001b[0m\u001b[0mmessage\u001b[0m\u001b[1;33m,\u001b[0m \u001b[0mscreen\u001b[0m\u001b[1;33m,\u001b[0m \u001b[0mstacktrace\u001b[0m\u001b[1;33m,\u001b[0m \u001b[0malert_text\u001b[0m\u001b[1;33m)\u001b[0m\u001b[1;33m\u001b[0m\u001b[1;33m\u001b[0m\u001b[0m\n\u001b[1;32m--> 242\u001b[1;33m         \u001b[1;32mraise\u001b[0m \u001b[0mexception_class\u001b[0m\u001b[1;33m(\u001b[0m\u001b[0mmessage\u001b[0m\u001b[1;33m,\u001b[0m \u001b[0mscreen\u001b[0m\u001b[1;33m,\u001b[0m \u001b[0mstacktrace\u001b[0m\u001b[1;33m)\u001b[0m\u001b[1;33m\u001b[0m\u001b[1;33m\u001b[0m\u001b[0m\n\u001b[0m\u001b[0;32m    243\u001b[0m \u001b[1;33m\u001b[0m\u001b[0m\n\u001b[0;32m    244\u001b[0m     \u001b[1;32mdef\u001b[0m \u001b[0m_value_or_default\u001b[0m\u001b[1;33m(\u001b[0m\u001b[0mself\u001b[0m\u001b[1;33m,\u001b[0m \u001b[0mobj\u001b[0m\u001b[1;33m,\u001b[0m \u001b[0mkey\u001b[0m\u001b[1;33m,\u001b[0m \u001b[0mdefault\u001b[0m\u001b[1;33m)\u001b[0m\u001b[1;33m:\u001b[0m\u001b[1;33m\u001b[0m\u001b[1;33m\u001b[0m\u001b[0m\n",
      "\u001b[1;31mStaleElementReferenceException\u001b[0m: Message: stale element reference: element is not attached to the page document\n  (Session info: chrome=89.0.4389.114)\n"
     ]
    }
   ],
   "source": [
    "\n",
    "logger = setup_logger()\n",
    "\n",
    "user_details = fetch_user_details(logger)\n",
    "settings = fetch_settings(logger)\n",
    "bot = SharkBot(user_details,settings, logger)\n",
    "\n",
    "bot.start_bot()"
   ]
  },
  {
   "cell_type": "code",
   "execution_count": 4,
   "metadata": {},
   "outputs": [
    {
     "output_type": "stream",
     "name": "stdout",
     "text": [
      "{3, 5}\n"
     ]
    }
   ],
   "source": [
    "l = {3,5,8}\n",
    "y ={8}\n",
    "difference = l.difference(y)\n",
    "print (difference)"
   ]
  },
  {
   "cell_type": "code",
   "execution_count": 5,
   "metadata": {},
   "outputs": [],
   "source": [
    "bot.driver.get(\"https://essayshark.com/writer/orders/195174315.html\")"
   ]
  },
  {
   "cell_type": "code",
   "execution_count": 20,
   "metadata": {},
   "outputs": [
    {
     "output_type": "stream",
     "name": "stderr",
     "text": [
      "'04/09/2021 01:05:46 PM [MainThread  ] [INFO ]  Successfully fetched client messages\n",
      "0: Hi client, having read the assignment's requirements, I can guarantee to deliver to beyond expectations. Thank you in advance.\n",
      "1: Dear client, I am confident that I can exceed your expectations. As a writer, I have worked on numerous projects in the past. Sincere regards, writer.\n",
      "2: Dear customer, you may proceed to assign this order to me. I guarantee quality work completed within the provided deadline. Best regards.\n",
      "3: Hello, I guarantee quality work on this order. Kindly assign and I will kick off ASAP. Thank you.\n",
      "4: Dear Client, I have handled similar tasks throughout my writing career. It would be my pleasure to assist in your task. Thank you in advance.\n"
     ]
    }
   ],
   "source": [
    "def fetch_settings(logger):\n",
    "    \"\"\"Fetch to fetch configuration settings from setup.ini\"\"\"\n",
    "    \"\"\"Fetch Path to Chrome driver from config file\"\"\"\n",
    "    config = ConfigParser()\n",
    "    settings = {}\n",
    "    config.read(\"setup.ini\")\n",
    "    CHROME_DRIVER_PATH = config.get(\"chromedriver\", \"path\")\n",
    "    bid_status = config.get(\"bid_status\",\"bid\")\n",
    "    # Fetch delay\n",
    "    settings['delay']= config.getint(\"delay\", \"seconds\")\n",
    "    chrome_driver = resource_path()\n",
    "    logger.debug(\"Successfully fetched chrome driver path\")\n",
    "    # fetch client messages\n",
    "    messages = json.loads(config.get(\"client_message\",\"messages\"))\n",
    "    settings['messages'] = messages\n",
    "    logger.info(\"Successfully fetched client messages\")\n",
    "    settings['chromedriver'] = chrome_driver\n",
    "    settings['bid_status'] = bid_status\n",
    "    return settings\n",
    "\n",
    "settings =  fetch_settings(logger)\n",
    "for no, message in enumerate(settings['messages']):\n",
    "    print (\"{}: {}\".format(no,message))"
   ]
  },
  {
   "cell_type": "code",
   "execution_count": 39,
   "metadata": {},
   "outputs": [
    {
     "output_type": "stream",
     "name": "stdout",
     "text": [
      "['', 'https://essayshark.com/writer/get_additional_material.html?order=195193071&h=f47d43410ad12b3302ccf371ebec6c67']\n"
     ]
    }
   ],
   "source": [
    "file_urls = []\n",
    "file_block = bot.driver.find_elements_by_css_selector('.paper_instructions_view>a')\n",
    "for url in file_block:\n",
    "    file_urls.append(url.get_attribute(\"href\"))\n",
    "print(file_urls)"
   ]
  },
  {
   "cell_type": "code",
   "execution_count": 41,
   "metadata": {},
   "outputs": [],
   "source": [
    "for url in file_urls:\n",
    "    if 'https://essayshark.com/writer/get_additional_material.html?' in url:\n",
    "        bot.driver.get(url)"
   ]
  },
  {
   "source": [
    "# New shark theme login code"
   ],
   "cell_type": "markdown",
   "metadata": {}
  },
  {
   "cell_type": "code",
   "execution_count": 1,
   "metadata": {},
   "outputs": [
    {
     "output_type": "error",
     "ename": "WebDriverException",
     "evalue": "Message: 'driver' executable may have wrong permissions. Please see https://sites.google.com/a/chromium.org/chromedriver/home\n",
     "traceback": [
      "\u001b[1;31m---------------------------------------------------------------------------\u001b[0m",
      "\u001b[1;31mPermissionError\u001b[0m                           Traceback (most recent call last)",
      "\u001b[1;32m~\\.conda\\envs\\bot\\lib\\site-packages\\selenium\\webdriver\\common\\service.py\u001b[0m in \u001b[0;36mstart\u001b[1;34m(self)\u001b[0m\n\u001b[0;32m     71\u001b[0m             \u001b[0mcmd\u001b[0m\u001b[1;33m.\u001b[0m\u001b[0mextend\u001b[0m\u001b[1;33m(\u001b[0m\u001b[0mself\u001b[0m\u001b[1;33m.\u001b[0m\u001b[0mcommand_line_args\u001b[0m\u001b[1;33m(\u001b[0m\u001b[1;33m)\u001b[0m\u001b[1;33m)\u001b[0m\u001b[1;33m\u001b[0m\u001b[1;33m\u001b[0m\u001b[0m\n\u001b[1;32m---> 72\u001b[1;33m             self.process = subprocess.Popen(cmd, env=self.env,\n\u001b[0m\u001b[0;32m     73\u001b[0m                                             \u001b[0mclose_fds\u001b[0m\u001b[1;33m=\u001b[0m\u001b[0mplatform\u001b[0m\u001b[1;33m.\u001b[0m\u001b[0msystem\u001b[0m\u001b[1;33m(\u001b[0m\u001b[1;33m)\u001b[0m \u001b[1;33m!=\u001b[0m \u001b[1;34m'Windows'\u001b[0m\u001b[1;33m,\u001b[0m\u001b[1;33m\u001b[0m\u001b[1;33m\u001b[0m\u001b[0m\n",
      "\u001b[1;32m~\\.conda\\envs\\bot\\lib\\subprocess.py\u001b[0m in \u001b[0;36m__init__\u001b[1;34m(self, args, bufsize, executable, stdin, stdout, stderr, preexec_fn, close_fds, shell, cwd, env, universal_newlines, startupinfo, creationflags, restore_signals, start_new_session, pass_fds, encoding, errors, text)\u001b[0m\n\u001b[0;32m    853\u001b[0m \u001b[1;33m\u001b[0m\u001b[0m\n\u001b[1;32m--> 854\u001b[1;33m             self._execute_child(args, executable, preexec_fn, close_fds,\n\u001b[0m\u001b[0;32m    855\u001b[0m                                 \u001b[0mpass_fds\u001b[0m\u001b[1;33m,\u001b[0m \u001b[0mcwd\u001b[0m\u001b[1;33m,\u001b[0m \u001b[0menv\u001b[0m\u001b[1;33m,\u001b[0m\u001b[1;33m\u001b[0m\u001b[1;33m\u001b[0m\u001b[0m\n",
      "\u001b[1;32m~\\.conda\\envs\\bot\\lib\\subprocess.py\u001b[0m in \u001b[0;36m_execute_child\u001b[1;34m(self, args, executable, preexec_fn, close_fds, pass_fds, cwd, env, startupinfo, creationflags, shell, p2cread, p2cwrite, c2pread, c2pwrite, errread, errwrite, unused_restore_signals, unused_start_new_session)\u001b[0m\n\u001b[0;32m   1306\u001b[0m             \u001b[1;32mtry\u001b[0m\u001b[1;33m:\u001b[0m\u001b[1;33m\u001b[0m\u001b[1;33m\u001b[0m\u001b[0m\n\u001b[1;32m-> 1307\u001b[1;33m                 hp, ht, pid, tid = _winapi.CreateProcess(executable, args,\n\u001b[0m\u001b[0;32m   1308\u001b[0m                                          \u001b[1;31m# no special security\u001b[0m\u001b[1;33m\u001b[0m\u001b[1;33m\u001b[0m\u001b[1;33m\u001b[0m\u001b[0m\n",
      "\u001b[1;31mPermissionError\u001b[0m: [WinError 5] Access is denied",
      "\nDuring handling of the above exception, another exception occurred:\n",
      "\u001b[1;31mWebDriverException\u001b[0m                        Traceback (most recent call last)",
      "\u001b[1;32m<ipython-input-1-61aebcfa5471>\u001b[0m in \u001b[0;36m<module>\u001b[1;34m\u001b[0m\n\u001b[0;32m     29\u001b[0m \u001b[0mchrome_options\u001b[0m\u001b[1;33m.\u001b[0m\u001b[0madd_argument\u001b[0m\u001b[1;33m(\u001b[0m\u001b[1;34m\"--incognito\"\u001b[0m\u001b[1;33m)\u001b[0m\u001b[1;33m\u001b[0m\u001b[1;33m\u001b[0m\u001b[0m\n\u001b[0;32m     30\u001b[0m \u001b[0mchrome_options\u001b[0m\u001b[1;33m.\u001b[0m\u001b[0madd_argument\u001b[0m\u001b[1;33m(\u001b[0m\u001b[1;34m\"--start-maximized\"\u001b[0m\u001b[1;33m)\u001b[0m\u001b[1;33m\u001b[0m\u001b[1;33m\u001b[0m\u001b[0m\n\u001b[1;32m---> 31\u001b[1;33m \u001b[0mdriver\u001b[0m \u001b[1;33m=\u001b[0m \u001b[0mwebdriver\u001b[0m\u001b[1;33m.\u001b[0m\u001b[0mChrome\u001b[0m\u001b[1;33m(\u001b[0m\u001b[0moptions\u001b[0m\u001b[1;33m=\u001b[0m\u001b[0mchrome_options\u001b[0m\u001b[1;33m,\u001b[0m \u001b[0mexecutable_path\u001b[0m\u001b[1;33m=\u001b[0m\u001b[0mCHROME_DRIVER\u001b[0m\u001b[1;33m)\u001b[0m\u001b[1;33m\u001b[0m\u001b[1;33m\u001b[0m\u001b[0m\n\u001b[0m\u001b[0;32m     32\u001b[0m \u001b[1;33m\u001b[0m\u001b[0m\n\u001b[0;32m     33\u001b[0m \u001b[0murl\u001b[0m \u001b[1;33m=\u001b[0m \u001b[1;34m\"https://essayshark.com/\"\u001b[0m\u001b[1;33m\u001b[0m\u001b[1;33m\u001b[0m\u001b[0m\n",
      "\u001b[1;32m~\\.conda\\envs\\bot\\lib\\site-packages\\selenium\\webdriver\\chrome\\webdriver.py\u001b[0m in \u001b[0;36m__init__\u001b[1;34m(self, executable_path, port, options, service_args, desired_capabilities, service_log_path, chrome_options, keep_alive)\u001b[0m\n\u001b[0;32m     71\u001b[0m             \u001b[0mservice_args\u001b[0m\u001b[1;33m=\u001b[0m\u001b[0mservice_args\u001b[0m\u001b[1;33m,\u001b[0m\u001b[1;33m\u001b[0m\u001b[1;33m\u001b[0m\u001b[0m\n\u001b[0;32m     72\u001b[0m             log_path=service_log_path)\n\u001b[1;32m---> 73\u001b[1;33m         \u001b[0mself\u001b[0m\u001b[1;33m.\u001b[0m\u001b[0mservice\u001b[0m\u001b[1;33m.\u001b[0m\u001b[0mstart\u001b[0m\u001b[1;33m(\u001b[0m\u001b[1;33m)\u001b[0m\u001b[1;33m\u001b[0m\u001b[1;33m\u001b[0m\u001b[0m\n\u001b[0m\u001b[0;32m     74\u001b[0m \u001b[1;33m\u001b[0m\u001b[0m\n\u001b[0;32m     75\u001b[0m         \u001b[1;32mtry\u001b[0m\u001b[1;33m:\u001b[0m\u001b[1;33m\u001b[0m\u001b[1;33m\u001b[0m\u001b[0m\n",
      "\u001b[1;32m~\\.conda\\envs\\bot\\lib\\site-packages\\selenium\\webdriver\\common\\service.py\u001b[0m in \u001b[0;36mstart\u001b[1;34m(self)\u001b[0m\n\u001b[0;32m     84\u001b[0m                 )\n\u001b[0;32m     85\u001b[0m             \u001b[1;32melif\u001b[0m \u001b[0merr\u001b[0m\u001b[1;33m.\u001b[0m\u001b[0merrno\u001b[0m \u001b[1;33m==\u001b[0m \u001b[0merrno\u001b[0m\u001b[1;33m.\u001b[0m\u001b[0mEACCES\u001b[0m\u001b[1;33m:\u001b[0m\u001b[1;33m\u001b[0m\u001b[1;33m\u001b[0m\u001b[0m\n\u001b[1;32m---> 86\u001b[1;33m                 raise WebDriverException(\n\u001b[0m\u001b[0;32m     87\u001b[0m                     \"'%s' executable may have wrong permissions. %s\" % (\n\u001b[0;32m     88\u001b[0m                         os.path.basename(self.path), self.start_error_message)\n",
      "\u001b[1;31mWebDriverException\u001b[0m: Message: 'driver' executable may have wrong permissions. Please see https://sites.google.com/a/chromium.org/chromedriver/home\n"
     ]
    }
   ],
   "source": [
    "import os\n",
    "import time\n",
    "import json\n",
    "# import webdriver \n",
    "from selenium.webdriver.chrome.options import Options \n",
    "from selenium import webdriver  \n",
    "from selenium.webdriver.common.by import By \n",
    "from selenium.webdriver.support.ui import WebDriverWait \n",
    "from selenium.webdriver.support import expected_conditions as EC\n",
    "from selenium.common.exceptions import NoSuchElementException\n",
    "from selenium.common.exceptions import ElementNotVisibleException \n",
    "\n",
    "\n",
    "with open('config.json', 'r') as f:\n",
    "    config = json.load(f)\n",
    "    \n",
    "    \n",
    "user_details= {}\n",
    "user_details['email'] = config['user_details']['email']\n",
    "user_details['password'] = config['user_details']['password']\n",
    "user_details\n",
    "\n",
    "CHROME_DRIVER = r'C:\\Users\\Admin\\Documents\\projects\\bots\\shark\\bot\\driver/chromedriver.exe'\n",
    "\n",
    "\n",
    "\n",
    "# create webdriver object  \n",
    "chrome_options = Options()\n",
    "chrome_options.add_argument(\"--incognito\")\n",
    "chrome_options.add_argument(\"--start-maximized\")\n",
    "driver = webdriver.Chrome(options=chrome_options, executable_path=CHROME_DRIVER)\n",
    "\n",
    "url = \"https://essayshark.com/\"  \n",
    "driver.get(url)"
   ]
  }
 ]
}