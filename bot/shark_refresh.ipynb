{
 "metadata": {
  "language_info": {
   "codemirror_mode": {
    "name": "ipython",
    "version": 3
   },
   "file_extension": ".py",
   "mimetype": "text/x-python",
   "name": "python",
   "nbconvert_exporter": "python",
   "pygments_lexer": "ipython3",
   "version": "3.8.5-final"
  },
  "orig_nbformat": 2,
  "kernelspec": {
   "name": "python385jvsc74a57bd05baf651f56d62098a8fbc4975699af6a0b34427acd5faac938ec4d49a2e2b92d",
   "display_name": "Python 3.8.5 64-bit ('bot': conda)"
  }
 },
 "nbformat": 4,
 "nbformat_minor": 2,
 "cells": [
  {
   "cell_type": "code",
   "execution_count": 22,
   "metadata": {},
   "outputs": [
    {
     "output_type": "stream",
     "name": "stdout",
     "text": [
      "[INFO] Successfully created the directory c:\\Users\\Admin\\Documents\\projects\\bots\\shark\\bot\\logs \n{'delay': 2, 'chromedriver': 'C:\\\\Users\\\\Admin\\\\Documents\\\\projects\\\\bots\\\\myessaywriter\\\\bot\\\\driver\\\\chromedriver.exe', 'bid_status': 'True'}\n{'email': 'joaojohn715@gmail.com', 'password': 'eliudkoto96'}\n"
     ]
    }
   ],
   "source": [
    "# fetch chrome driver and settings\n",
    "import json\n",
    "import os\n",
    "import sys\n",
    "import logging\n",
    "import json\n",
    "import time\n",
    "import imaplib\n",
    "import email\n",
    "from configparser import ConfigParser\n",
    "from imapclient import IMAPClient\n",
    "from datetime import date, datetime, timedelta\n",
    "\n",
    "\n",
    "def setup_logger():\n",
    "    \"\"\"function to set up logger\"\"\"\n",
    "    # configure logging\n",
    "    d = date.today()\n",
    "\n",
    "    log_file = d.isoformat()\n",
    "    ## check if file exists    \n",
    "    log_path = check_log_folder('logs')\n",
    "    logging.basicConfig(\n",
    "    format=\"%(asctime)s [%(threadName)-12.12s] [%(levelname)-5.5s]  %(message)s\",\n",
    "    datefmt=\"'%m/%d/%Y %I:%M:%S %p\",\n",
    "    handlers=[\n",
    "        logging.FileHandler(\"{0}/{1}.log\".format(log_path, log_file)),\n",
    "        logging.StreamHandler()\n",
    "    ],\n",
    "    level = logging.DEBUG)\n",
    "\n",
    "    logger = logging.getLogger(__name__)\n",
    "    return logger\n",
    "\n",
    "def check_log_folder(dir_name):\n",
    "    \"\"\"Function to ensure log directory exists\"\"\"\n",
    "    if not os.path.exists(dir_name):\n",
    "        try:\n",
    "            os.mkdir(dir_name)\n",
    "        except OSError:\n",
    "            print (\"[INFO] Creation of the directory {} failed\".format(os.path.abspath(dir_name)))\n",
    "    else:\n",
    "        print (\"[INFO] Successfully created the directory {} \".format(os.path.abspath(dir_name)))\n",
    "    return format(os.path.abspath(dir_name))\n",
    "\n",
    "def resource_path():\n",
    "    CHROME_DRIVER = os.path.join(os.path.join(os.getcwd(), 'C:\\\\Users\\\\Admin\\\\Documents\\\\projects\\\\bots\\\\myessaywriter\\\\bot\\\\driver'), 'chromedriver.exe')\n",
    "    return CHROME_DRIVER\n",
    "\n",
    "def fetch_settings(logger):\n",
    "    \"\"\"Fetch to fetch configuration settings from setup.ini\"\"\"\n",
    "    \"\"\"Fetch Path to Chrome driver from config file\"\"\"\n",
    "    config = ConfigParser()\n",
    "    settings = {}\n",
    "    config.read(\"setup.ini\")\n",
    "    CHROME_DRIVER_PATH = config.get(\"chromedriver\", \"path\")\n",
    "    bid_status = config.get(\"bid_status\",\"bid\")\n",
    "    # Fetch delay\n",
    "    settings['delay']= config.getint(\"delay\", \"seconds\")\n",
    "    chrome_driver = resource_path()\n",
    "    logger.debug(\"Successfully fetched chrome driver path\")\n",
    "    settings['chromedriver'] = chrome_driver\n",
    "    settings['bid_status'] = bid_status\n",
    "    return settings\n",
    "\n",
    "def fetch_user_details(logger):\n",
    "    \"\"\"Function to fetch user details from config.json\"\"\"\n",
    "    with open('config.json', 'r') as f:\n",
    "        config = json.load(f)\n",
    "    \n",
    "    user_details= {}\n",
    "    user_details['email'] = config['user_details']['email']\n",
    "    user_details['password'] = config['user_details']['password']\n",
    "    logger.debug(\"User details fetched successfully\")\n",
    "    return user_details\n",
    "\n",
    "# configure logging\n",
    "logger = setup_logger()\n",
    "user_details = fetch_user_details(logger)\n",
    "settings = fetch_settings(logger)\n",
    "print(settings)\n",
    "print(user_details)\n",
    "\n",
    "\n"
   ]
  },
  {
   "cell_type": "code",
   "execution_count": 23,
   "metadata": {},
   "outputs": [],
   "source": [
    "from bot.tempBot import SharkBot\n",
    "\n"
   ]
  },
  {
   "cell_type": "code",
   "execution_count": 24,
   "metadata": {},
   "outputs": [
    {
     "output_type": "stream",
     "name": "stderr",
     "text": [
      "'04/07/2021 12:36:59 AM [MainThread  ] [INFO ]  Navigating to home page\n",
      "'04/07/2021 12:37:15 AM [MainThread  ] [INFO ]  Form button ready to click\n",
      "'04/07/2021 12:37:15 AM [MainThread  ] [INFO ]  Log in form loaded\n",
      "'04/07/2021 12:37:15 AM [MainThread  ] [INFO ]  Logging into Shark...\n",
      "'04/07/2021 12:37:16 AM [MainThread  ] [INFO ]  Completed log in process\n",
      "'04/07/2021 12:37:22 AM [MainThread  ] [INFO ]  Fetched 51 orders\n"
     ]
    },
    {
     "output_type": "error",
     "ename": "TypeError",
     "evalue": "object of type 'NoneType' has no len()",
     "traceback": [
      "\u001b[1;31m---------------------------------------------------------------------------\u001b[0m",
      "\u001b[1;31mTypeError\u001b[0m                                 Traceback (most recent call last)",
      "\u001b[1;32m<ipython-input-24-8469fbcadd41>\u001b[0m in \u001b[0;36m<module>\u001b[1;34m\u001b[0m\n\u001b[0;32m      1\u001b[0m \u001b[0mbot\u001b[0m \u001b[1;33m=\u001b[0m \u001b[0mSharkBot\u001b[0m\u001b[1;33m(\u001b[0m\u001b[0muser_details\u001b[0m\u001b[1;33m,\u001b[0m\u001b[0msettings\u001b[0m\u001b[1;33m,\u001b[0m \u001b[0mlogger\u001b[0m\u001b[1;33m)\u001b[0m\u001b[1;33m\u001b[0m\u001b[1;33m\u001b[0m\u001b[0m\n\u001b[1;32m----> 2\u001b[1;33m \u001b[0mbot\u001b[0m\u001b[1;33m.\u001b[0m\u001b[0mstart_bot\u001b[0m\u001b[1;33m(\u001b[0m\u001b[1;33m)\u001b[0m\u001b[1;33m\u001b[0m\u001b[1;33m\u001b[0m\u001b[0m\n\u001b[0m",
      "\u001b[1;32mc:\\Users\\Admin\\Documents\\projects\\bots\\shark\\bot\\bot\\tempBot.py\u001b[0m in \u001b[0;36mstart_bot\u001b[1;34m(self)\u001b[0m\n\u001b[0;32m    128\u001b[0m         \u001b[0mself\u001b[0m\u001b[1;33m.\u001b[0m\u001b[0mload_popup\u001b[0m\u001b[1;33m(\u001b[0m\u001b[1;33m)\u001b[0m\u001b[1;33m\u001b[0m\u001b[1;33m\u001b[0m\u001b[0m\n\u001b[0;32m    129\u001b[0m         \u001b[0mself\u001b[0m\u001b[1;33m.\u001b[0m\u001b[0menter_user_details\u001b[0m\u001b[1;33m(\u001b[0m\u001b[1;33m)\u001b[0m\u001b[1;33m\u001b[0m\u001b[1;33m\u001b[0m\u001b[0m\n\u001b[1;32m--> 130\u001b[1;33m         \u001b[1;31m# get existing orders\u001b[0m\u001b[1;33m\u001b[0m\u001b[1;33m\u001b[0m\u001b[1;33m\u001b[0m\u001b[0m\n\u001b[0m\u001b[0;32m    131\u001b[0m         \u001b[0mfetched_orders\u001b[0m \u001b[1;33m=\u001b[0m \u001b[0mself\u001b[0m\u001b[1;33m.\u001b[0m\u001b[0mfetch_orders\u001b[0m\u001b[1;33m(\u001b[0m\u001b[1;33m)\u001b[0m\u001b[1;33m\u001b[0m\u001b[1;33m\u001b[0m\u001b[0m\n\u001b[0;32m    132\u001b[0m         \u001b[0mself\u001b[0m\u001b[1;33m.\u001b[0m\u001b[0mlogger\u001b[0m\u001b[1;33m.\u001b[0m\u001b[0mdebug\u001b[0m\u001b[1;33m(\u001b[0m\u001b[0mfetched_orders\u001b[0m\u001b[1;33m)\u001b[0m\u001b[1;33m\u001b[0m\u001b[1;33m\u001b[0m\u001b[0m\n",
      "\u001b[1;31mTypeError\u001b[0m: object of type 'NoneType' has no len()"
     ]
    }
   ],
   "source": [
    "bot = SharkBot(user_details,settings, logger)\n",
    "bot.start_bot()"
   ]
  },
  {
   "cell_type": "code",
   "execution_count": 15,
   "metadata": {},
   "outputs": [
    {
     "output_type": "stream",
     "name": "stderr",
     "text": [
      "'04/06/2021 10:30:00 PM [MainThread  ] [INFO ]  Fetched 53 orders\n"
     ]
    }
   ],
   "source": [
    "bot.fetch_orders()\n"
   ]
  }
 ]
}